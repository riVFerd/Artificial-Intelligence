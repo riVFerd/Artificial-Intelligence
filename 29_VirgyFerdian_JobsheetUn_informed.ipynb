{
  "nbformat": 4,
  "nbformat_minor": 0,
  "metadata": {
    "colab": {
      "provenance": [],
      "collapsed_sections": [],
      "authorship_tag": "ABX9TyNyiylMFaVNzs3FfMWql/Fp",
      "include_colab_link": true
    },
    "kernelspec": {
      "name": "python3",
      "display_name": "Python 3"
    },
    "language_info": {
      "name": "python"
    }
  },
  "cells": [
    {
      "cell_type": "markdown",
      "metadata": {
        "id": "view-in-github",
        "colab_type": "text"
      },
      "source": [
        "<a href=\"https://colab.research.google.com/github/riVFerd/Artificial-Intelligence/blob/main/29_VirgyFerdian_JobsheetUn_informed.ipynb\" target=\"_parent\"><img src=\"https://colab.research.google.com/assets/colab-badge.svg\" alt=\"Open In Colab\"/></a>"
      ]
    },
    {
      "cell_type": "markdown",
      "source": [
        "NAMA\t  : Virgy Ferdian Surya F.\n",
        "NIM \t\t: 2141720116\n",
        "KELAS \t: 2B-D4TI\n",
        "MATERI \t: Un-informed Graph (Pertemuan 3)\n",
        "Link Github : "
      ],
      "metadata": {
        "id": "-vKeNMv4Wglb"
      }
    },
    {
      "cell_type": "code",
      "execution_count": 18,
      "metadata": {
        "colab": {
          "base_uri": "https://localhost:8080/"
        },
        "id": "l-21aQMQ3e4c",
        "outputId": "1d972954-3918-4fe0-c031-069ba104ceb0"
      },
      "outputs": [
        {
          "output_type": "stream",
          "name": "stdout",
          "text": [
            "Hasil penelusuran graf menggunakan BFS:\n",
            "A B C D E F H G "
          ]
        }
      ],
      "source": [
        "# Praktikum 1\n",
        "graph = {\n",
        "    'A' : ['B', 'C'],\n",
        "    'B' : ['D', 'E'],\n",
        "    'C' : ['F'],\n",
        "    'D' : [],\n",
        "    'E' : ['F'],\n",
        "    'F' : ['H'],\n",
        "    'G' : ['H'],\n",
        "    'H' : ['G']\n",
        "}\n",
        "\n",
        "visited = []\n",
        "queue = []\n",
        "\n",
        "def bfs(visited, graph, node):\n",
        "  visited.append(node)\n",
        "  queue.append(node)\n",
        "\n",
        "  while queue:\n",
        "    s = queue.pop(0)\n",
        "    print(s, end=\" \")\n",
        "\n",
        "    for neighbour in graph[s]:\n",
        "      if neighbour not in visited:\n",
        "        visited.append(neighbour)\n",
        "        queue.append(neighbour)\n",
        "\n",
        "print(\"Hasil penelusuran graf menggunakan BFS:\")\n",
        "bfs(visited, graph, 'A')"
      ]
    },
    {
      "cell_type": "markdown",
      "source": [
        "Pertanyaan\n",
        "1.   Jelaskan detail dari Langkah ketiga pada percobaan 1\n",
        "2.   Bagaimana hasil penelusuran graf diatas bila node E terhubung dengan node F dan G\n",
        "3. Apakah kode program dari praktikum sesuai dengan graf yang ada pada langkah 1?\n",
        "\n",
        "Jawaban :\n",
        "1.   Dari node A akan dicek node apa saja yang terhubung dengan node A, yaitu node B dan C. Setelah itu dicek node B ada D, E. Lalu dari D tidak ada node, lalu dari E ada F. Dari F ada H. Dan dari H ada G."
      ],
      "metadata": {
        "id": "bPoXN9Ub_VdN"
      }
    },
    {
      "cell_type": "code",
      "source": [
        "# Jawaban Pertanyaan 2\n",
        "graph = {\n",
        "    'A' : ['B', 'C'],\n",
        "    'B' : ['D', 'E'],\n",
        "    'C' : ['F'],\n",
        "    'D' : [],\n",
        "    'E' : ['F', 'G'],\n",
        "    'F' : ['H'],\n",
        "    'G' : ['H'],\n",
        "    'H' : ['G']\n",
        "}\n",
        "\n",
        "visited = []\n",
        "queue = []\n",
        "\n",
        "print(\"Hasil penelusuran graf menggunakan BFS:\")\n",
        "bfs(visited, graph, 'A')"
      ],
      "metadata": {
        "colab": {
          "base_uri": "https://localhost:8080/"
        },
        "id": "_aXuCjpiD0KO",
        "outputId": "b27184d7-737a-4e8c-e33f-59e200e3fb3a"
      },
      "execution_count": 22,
      "outputs": [
        {
          "output_type": "stream",
          "name": "stdout",
          "text": [
            "Hasil penelusuran graf menggunakan BFS:\n",
            "A B C D E F G H "
          ]
        }
      ]
    },
    {
      "cell_type": "code",
      "source": [
        "# Jawaban pertanyaan 3\n",
        "# Tidak sesuai karena graf pada gambar adalah undirected graf sedangkan\n",
        "# yang diimplementasikan pada kode program adalah directed graf\n",
        "# graf yang sesuai:\n",
        "\n",
        "graph = {\n",
        "    'A' : ['B', 'C'],\n",
        "    'B' : ['A', 'D', 'E'],\n",
        "    'C' : ['A', 'F'],\n",
        "    'D' : ['B'],\n",
        "    'E' : ['B', 'F'],\n",
        "    'F' : ['C', 'E', 'H'],\n",
        "    'G' : ['H'],\n",
        "    'H' : ['G']\n",
        "}"
      ],
      "metadata": {
        "id": "nQ7GyDRHWKCT"
      },
      "execution_count": null,
      "outputs": []
    },
    {
      "cell_type": "code",
      "source": [
        "# Praktikum 2\n",
        "graph = {\n",
        "    'A' : ['B', 'C'],\n",
        "    'B' : ['D', 'E'],\n",
        "    'C' : ['F'],\n",
        "    'D' : [],\n",
        "    'E' : ['F'],\n",
        "    'F' : ['H'],\n",
        "    'G' : ['H'],\n",
        "    'H' : ['G']\n",
        "}\n",
        "visited = set()\n",
        "def dfs(visited, graph, node):\n",
        "  if node not in visited:\n",
        "    print(node)\n",
        "    visited.add(node)\n",
        "    for neighbour in graph[node]:\n",
        "      dfs(visited, graph, neighbour)\n",
        "print(\"Hasil  penulusuran graf menggunakan DFS:\")\n",
        "dfs(visited, graph, 'A')"
      ],
      "metadata": {
        "colab": {
          "base_uri": "https://localhost:8080/"
        },
        "id": "lMI7mEcuFY_v",
        "outputId": "a5edbbd6-5eea-46fd-ea91-550bf803deb9"
      },
      "execution_count": 35,
      "outputs": [
        {
          "output_type": "stream",
          "name": "stdout",
          "text": [
            "Hasil  penulusuran graf menggunakan DFS:\n",
            "A\n",
            "B\n",
            "D\n",
            "E\n",
            "F\n",
            "H\n",
            "G\n",
            "C\n"
          ]
        }
      ]
    },
    {
      "cell_type": "markdown",
      "source": [
        "Pertanyaan\n",
        "1.   Jelaskan secara Langkah ketiga dari percobaan 2\n",
        "2.   Apakah terdapat perbedan hasil penelusuran bila node B terhubung dengan node C? Mengapa?\n",
        "3. Apakah kode program dari praktikum sesuai dengan graf yang ada pada langkah 1?\n",
        "\n",
        "Jawaban\n",
        "1.   Pertama node dicek apakah sudah ada dalam visited atau bleum, jika belum ada maka akan di print dan ditambahkan ke visited. setelah itu setiap node yang ada pada node tersebut akan digunakan untuk memanggil fungsi dfs lagi. (menggunakan recursive function)."
      ],
      "metadata": {
        "id": "sM9iFtxDHgvL"
      }
    },
    {
      "cell_type": "code",
      "source": [
        "# Jawaban pertanyaan 2\n",
        "graph = {\n",
        "    'A' : ['B', 'C'],\n",
        "    'B' : ['D', 'E', 'C'],\n",
        "    'C' : ['F'],\n",
        "    'D' : [],\n",
        "    'E' : ['F'],\n",
        "    'F' : ['H'],\n",
        "    'G' : ['H'],\n",
        "    'H' : ['G']\n",
        "}\n",
        "visited = set()\n",
        "print(\"Hasil  penulusuran graf menggunakan DFS:\")\n",
        "dfs(visited, graph, 'A')"
      ],
      "metadata": {
        "colab": {
          "base_uri": "https://localhost:8080/"
        },
        "id": "7Tw0CAFtT_kF",
        "outputId": "0a4fefb6-a608-4b4b-e3cf-e6557920d842"
      },
      "execution_count": 36,
      "outputs": [
        {
          "output_type": "stream",
          "name": "stdout",
          "text": [
            "Hasil  penulusuran graf menggunakan DFS:\n",
            "A\n",
            "B\n",
            "D\n",
            "E\n",
            "F\n",
            "H\n",
            "G\n",
            "C\n"
          ]
        }
      ]
    },
    {
      "cell_type": "code",
      "source": [
        "# Jawaban pertanyaan 3\n",
        "# Tidak sesuai karena graf pada gambar adalah undirected graf sedangkan\n",
        "# yang diimplementasikan pada kode program adalah directed graf\n",
        "# graf yang sesuai:\n",
        "\n",
        "graph = {\n",
        "    'A' : ['B', 'C'],\n",
        "    'B' : ['A', 'D', 'E'],\n",
        "    'C' : ['A', 'F'],\n",
        "    'D' : ['B'],\n",
        "    'E' : ['B', 'F'],\n",
        "    'F' : ['C', 'E', 'H'],\n",
        "    'G' : ['H'],\n",
        "    'H' : ['G']\n",
        "}"
      ],
      "metadata": {
        "id": "weYmL9_uU5gY"
      },
      "execution_count": null,
      "outputs": []
    },
    {
      "cell_type": "code",
      "source": [
        "# Latihan 1\n",
        "graph = {\n",
        "    'A' : ['B', 'E', 'F'],\n",
        "    'B' : ['A', 'F', 'G'],\n",
        "    'C' : ['G', 'D'],\n",
        "    'D' : ['C', 'H'],\n",
        "    'E' : ['A','F'],\n",
        "    'F' : ['A', 'B', 'E'],\n",
        "    'G' : ['B', 'C', 'H'],\n",
        "    'H' : ['D','G']\n",
        "}\n",
        "\n",
        "visited = []\n",
        "queue = []\n",
        "print(\"Hasil penelusuran graf menggunakan BFS:\")\n",
        "bfs(visited, graph, 'A')\n",
        "\n",
        "visited = set()\n",
        "queue = []\n",
        "print(\"\\nHasil penelusuran graf menggunakan DFS:\")\n",
        "dfs(visited, graph, 'A')"
      ],
      "metadata": {
        "colab": {
          "base_uri": "https://localhost:8080/"
        },
        "id": "5ApcoHfwIvU9",
        "outputId": "9a23c7f0-57f9-4299-e9e6-9b6c2779f9a8"
      },
      "execution_count": 26,
      "outputs": [
        {
          "output_type": "stream",
          "name": "stdout",
          "text": [
            "Hasil penelusuran graf menggunakan BFS:\n",
            "A B E F G C H D \n",
            "Hasil penelusuran graf menggunakan DFS:\n",
            "A\n",
            "B\n",
            "F\n",
            "E\n",
            "G\n",
            "C\n",
            "D\n",
            "H\n"
          ]
        }
      ]
    },
    {
      "cell_type": "code",
      "source": [
        "# Latihan 2\n",
        "graph = {\n",
        "    'A' : ['B'],\n",
        "    'B' : ['A', 'F', 'G'],\n",
        "    'C' : ['D', 'G'],\n",
        "    'D' : ['C', 'H'],\n",
        "    'E' : ['F'],\n",
        "    'F' : ['B', 'E'],\n",
        "    'G' : ['B', 'C'],\n",
        "    'H' : ['D']\n",
        "}\n",
        "\n",
        "def bfs(visited, graph, node, target):\n",
        "  visited.append(node)\n",
        "  queue.append(node)\n",
        "\n",
        "  while queue:\n",
        "    s = queue.pop(0)\n",
        "    print(s, end=\" \")\n",
        "    if s == target:\n",
        "      return\n",
        "\n",
        "    for neighbour in graph[s]:\n",
        "      if neighbour not in visited:\n",
        "        visited.append(neighbour)\n",
        "        queue.append(neighbour)\n",
        "\n",
        "def dfs(visited, graph, node, target):\n",
        "  if node not in visited:\n",
        "    print(node)\n",
        "    visited.add(node)\n",
        "    if node == target:\n",
        "      return\n",
        "    for neighbour in graph[node]:\n",
        "      dfs(visited, graph, neighbour, target)\n",
        "\n",
        "visited = []\n",
        "queue = []\n",
        "print(\"Hasil penelusuran graf menggunakan BFS:\")\n",
        "bfs(visited, graph, 'A', 'D')\n",
        "\n",
        "visited = set()\n",
        "print(\"\\nHasil penelusuran graf menggunakan DFS:\")\n",
        "dfs(visited, graph, 'A', 'D')"
      ],
      "metadata": {
        "colab": {
          "base_uri": "https://localhost:8080/"
        },
        "id": "zCs6-f10KiJW",
        "outputId": "e972fa73-6033-4f62-a7c7-ababf29e265f"
      },
      "execution_count": 33,
      "outputs": [
        {
          "output_type": "stream",
          "name": "stdout",
          "text": [
            "Hasil penelusuran graf menggunakan BFS:\n",
            "A B F G E C D \n",
            "Hasil penelusuran graf menggunakan DFS:\n",
            "A\n",
            "B\n",
            "F\n",
            "E\n",
            "G\n",
            "C\n",
            "D\n"
          ]
        }
      ]
    },
    {
      "cell_type": "markdown",
      "source": [
        "Dalam hal diatas keduanya memerlukan step/waktu yang sama, hanya urutan penelusuranya yang berbeda"
      ],
      "metadata": {
        "id": "BR58yN5zRSlM"
      }
    }
  ]
}