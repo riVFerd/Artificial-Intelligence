{
  "nbformat": 4,
  "nbformat_minor": 0,
  "metadata": {
    "colab": {
      "provenance": [],
      "authorship_tag": "ABX9TyMmSZDFPGaasjVXuPrxoE9X",
      "include_colab_link": true
    },
    "kernelspec": {
      "name": "python3",
      "display_name": "Python 3"
    },
    "language_info": {
      "name": "python"
    }
  },
  "cells": [
    {
      "cell_type": "markdown",
      "metadata": {
        "id": "view-in-github",
        "colab_type": "text"
      },
      "source": [
        "<a href=\"https://colab.research.google.com/github/riVFerd/Artificial-Intelligence/blob/main/29_VirgyFerdian_DecisionTree.ipynb\" target=\"_parent\"><img src=\"https://colab.research.google.com/assets/colab-badge.svg\" alt=\"Open In Colab\"/></a>"
      ]
    },
    {
      "cell_type": "markdown",
      "source": [
        "NAMA\t: Virgy Ferdian Surya F.  \n",
        "NIM \t\t: 2141720116   \n",
        "KELAS \t: 2B-D4TI  \n",
        "MATERI \t: Decision Tree  \n",
        "Link Github : \n"
      ],
      "metadata": {
        "id": "Uv9p-tHQu5G8"
      }
    },
    {
      "cell_type": "code",
      "execution_count": 2,
      "metadata": {
        "id": "EXF00fSLhXes"
      },
      "outputs": [],
      "source": [
        "# langkah1\n",
        "import numpy as np\n",
        "import pandas as pd\n",
        "eps = np.finfo(float).eps\n",
        "from numpy import log2 as log"
      ]
    },
    {
      "cell_type": "code",
      "source": [
        "# langkah2\n",
        "outlook = 'overcast, overcast, overcast, overcast, rainy, rainy, rainy, rainy, rainy, sunny, sunny, sunny, sunny, sunny'.split(',')\n",
        "temp = 'hot,cool,mild,hot,mild,cool,cool,mild,mild,hot,hot,mild,cool,mild'.split(',')\n",
        "humidity= 'high,normal,high,normal,high,normal,normal,normal,high,high,high,high,normal,normal'.split(',')\n",
        "windy = 'FALSE,TRUE,TRUE,FALSE,FALSE,FALSE,TRUE,FALSE,TRUE,FALSE,TRUE,FALSE,FALSE,TRUE'.split(',')\n",
        "play = 'yes,yes,yes,yes,yes,yes,no,yes,no,no,no,no,yes,yes'.split(',')"
      ],
      "metadata": {
        "id": "WmLTxKJohukt"
      },
      "execution_count": 3,
      "outputs": []
    },
    {
      "cell_type": "code",
      "source": [
        "# langkah3\n",
        "dataset = {'outlook':outlook, 'temp':temp, 'humidity':humidity, 'windy':windy, 'play':play}\n",
        "df = pd.DataFrame(dataset, columns=['outlook', 'temp', 'humidity', 'windy', 'play'])"
      ],
      "metadata": {
        "id": "BZv5ctwihkFx"
      },
      "execution_count": 9,
      "outputs": []
    },
    {
      "cell_type": "code",
      "source": [
        "# langkah4\n",
        "entropy_node = 0\n",
        "values = df.play.unique()\n",
        "for value in values:\n",
        "    fraction = df.play.value_counts()[value]/len(df.play)\n",
        "    entropy_node += -fraction*np.log2(fraction)\n",
        "entropy_node"
      ],
      "metadata": {
        "colab": {
          "base_uri": "https://localhost:8080/"
        },
        "id": "VSTeL58JhkcI",
        "outputId": "cfc6a4f1-b27f-4b57-d791-8b8535114b4e"
      },
      "execution_count": 12,
      "outputs": [
        {
          "output_type": "execute_result",
          "data": {
            "text/plain": [
              "0.9402859586706309"
            ]
          },
          "metadata": {},
          "execution_count": 12
        }
      ]
    },
    {
      "cell_type": "code",
      "source": [
        "# langkah5\n",
        "def ent(df, attribute):\n",
        "    target_variables = df.play.unique()\n",
        "    variables = df[attribute].unique()\n",
        "    \n",
        "    entropy_attribute = 0\n",
        "    for variable in variables:\n",
        "        entropy_each_feature = 0\n",
        "        for target_variable in target_variables:\n",
        "            num = len(df[attribute][df[attribute]==variable][df.play ==target_variable])\n",
        "            den = len(df[attribute][df[attribute]==variable])\n",
        "            fraction = num/(den+eps)\n",
        "            entropy_each_feature += -fraction*log(fraction+eps)\n",
        "        fraction2 = den/len(df)\n",
        "        entropy_attribute += -fraction2*entropy_each_feature\n",
        "    return abs(entropy_attribute)\n",
        "\n",
        "a_entropy = {k:ent(df,k) for k in df.keys()[:-1]}\n",
        "a_entropy"
      ],
      "metadata": {
        "colab": {
          "base_uri": "https://localhost:8080/"
        },
        "id": "MreRXgA_hkqA",
        "outputId": "4ba83499-59be-409f-a4c9-2c6232ca2ec4"
      },
      "execution_count": 6,
      "outputs": [
        {
          "output_type": "execute_result",
          "data": {
            "text/plain": [
              "{'outlook': 0.6935361388961914,\n",
              " 'temp': 0.9110633930116756,\n",
              " 'humidity': 0.7884504573082889,\n",
              " 'windy': 0.892158928262361}"
            ]
          },
          "metadata": {},
          "execution_count": 6
        }
      ]
    },
    {
      "cell_type": "code",
      "source": [
        "# langkah6\n",
        "def ig(e_dataset, e_attribute):\n",
        "    return (e_dataset-e_attribute)\n",
        "\n",
        "IG = {k:ig(entropy_node, a_entropy[k]) for k in a_entropy}\n",
        "IG"
      ],
      "metadata": {
        "colab": {
          "base_uri": "https://localhost:8080/"
        },
        "id": "ReG_1pdmhk3c",
        "outputId": "ba72d97f-f129-4c40-ef6f-5ac8ba702ef2"
      },
      "execution_count": 7,
      "outputs": [
        {
          "output_type": "execute_result",
          "data": {
            "text/plain": [
              "{'outlook': 0.24674981977443955,\n",
              " 'temp': 0.029222565658955313,\n",
              " 'humidity': 0.15183550136234203,\n",
              " 'windy': 0.04812703040826993}"
            ]
          },
          "metadata": {},
          "execution_count": 7
        }
      ]
    },
    {
      "cell_type": "code",
      "source": [
        "import numpy as np\n",
        "import pandas as pd\n",
        "eps = np.finfo(float).eps\n",
        "from numpy import log2 as log\n",
        "\n",
        "outlook = 'overcast, overcast, overcast, overcast, rainy, rainy, rainy, rainy, rainy, sunny, sunny, sunny, sunny, sunny'.split(\n",
        "    ',')\n",
        "temp = 'hot,cool,mild,hot,mild,cool,cool,mild,mild,hot,hot,mild,cool,mild'.split(\n",
        "    ',')\n",
        "humidity = 'high,normal,high,normal,high,normal,normal,normal,high,high,high,high,normal,normal'.split(\n",
        "    ',')\n",
        "windy = 'FALSE,TRUE,TRUE,FALSE,FALSE,FALSE,TRUE,FALSE,TRUE,FALSE,TRUE,FALSE,FALSE,TRUE'.split(\n",
        "    ',')\n",
        "play = 'yes,yes,yes,yes,yes,yes,no,yes,no,no,no,no,yes,yes'.split(',')\n",
        "\n",
        "dataset = {'outlook': outlook, 'temp': temp,\n",
        "           'humidity': humidity, 'windy': windy, 'play': play}\n",
        "df = pd.DataFrame(dataset, columns=['outlook', 'temp', 'humidity', 'windy', 'play'])\n",
        "\n",
        "\n",
        "def find_entropy(df):\n",
        "    Class = df.keys()[-1]\n",
        "    entropy = 0\n",
        "    values = df[Class].unique()\n",
        "    for value in values:\n",
        "        fraction = df[Class].value_counts()[value]/len(df[Class])\n",
        "        entropy += -fraction*np.log2(fraction)\n",
        "    return entropy\n",
        "\n",
        "\n",
        "def find_entropy_attribute(df, attribute):\n",
        "    Class = df.keys()[-1]\n",
        "    target_variables = df[Class].unique()\n",
        "    variables = df[attribute].unique()\n",
        "    entropy2 = 0\n",
        "    for variable in variables:\n",
        "        entropy = 0\n",
        "        for target_variable in target_variables:\n",
        "            num = len(df[attribute][df[attribute] == variable][df[Class] == target_variable])\n",
        "            den = len(df[attribute][df[attribute] == variable])\n",
        "            fraction = num/(den+eps)\n",
        "            entropy += -fraction*log(fraction+eps)\n",
        "        fraction2 = den/len(df)\n",
        "        entropy2 += -fraction2*entropy\n",
        "    return abs(entropy2)\n",
        "\n",
        "\n",
        "def find_winner(df):\n",
        "    Entropy_att = []\n",
        "    IG = []\n",
        "    for key in df.keys()[:-1]:\n",
        "        # Entropy_att.append(find_entropy_attribute(df, key))\n",
        "        IG.append(find_entropy(df) - find_entropy_attribute(df, key))\n",
        "    return df.keys()[:-1][np.argmax(IG)]\n",
        "\n",
        "def get_subtable(df, node, value):\n",
        "    return df[df[node] == value].reset_index(drop = True)\n",
        "\n",
        "def buildTree(df, tree = None):\n",
        "    Class = df.keys()[-1]\n",
        "    node = find_winner(df)\n",
        "    attValue = np.unique(df[node])\n",
        "    if tree is None:\n",
        "        tree = {}\n",
        "        tree[node] = {}\n",
        "    \n",
        "    for value in attValue:\n",
        "        subtable = get_subtable(df, node, value)\n",
        "        clValue, counts = np.unique(subtable[Class], return_counts = True)\n",
        "        if len(counts) == 1:\n",
        "            tree[node][value] = clValue[0]\n",
        "        else:\n",
        "            tree[node][value] = buildTree(subtable)\n",
        "    return tree\n",
        "\n",
        "t = buildTree(df)\n",
        "import pprint\n",
        "pprint.pprint(t)"
      ],
      "metadata": {
        "colab": {
          "base_uri": "https://localhost:8080/"
        },
        "id": "9xXZJVdxijvX",
        "outputId": "873f9d78-0fc4-4b60-edd5-3f269dd4c464"
      },
      "execution_count": 14,
      "outputs": [
        {
          "output_type": "stream",
          "name": "stdout",
          "text": [
            "{'outlook': {' overcast': 'yes',\n",
            "             ' rainy': {'windy': {'FALSE': 'yes', 'TRUE': 'no'}},\n",
            "             ' sunny': {'humidity': {'high': 'no', 'normal': 'yes'}},\n",
            "             'overcast': 'yes'}}\n"
          ]
        }
      ]
    },
    {
      "cell_type": "markdown",
      "source": [
        "**Jawaban Tugas :**  \n"
      ],
      "metadata": {
        "id": "Ighu0UPOvJxP"
      }
    }
  ]
}