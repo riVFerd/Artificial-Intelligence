{
  "nbformat": 4,
  "nbformat_minor": 0,
  "metadata": {
    "colab": {
      "provenance": [],
      "collapsed_sections": [],
      "authorship_tag": "ABX9TyOA7HP3qpiKkKd1AYPJBZG+",
      "include_colab_link": true
    },
    "kernelspec": {
      "name": "python3",
      "display_name": "Python 3"
    },
    "language_info": {
      "name": "python"
    }
  },
  "cells": [
    {
      "cell_type": "markdown",
      "metadata": {
        "id": "view-in-github",
        "colab_type": "text"
      },
      "source": [
        "<a href=\"https://colab.research.google.com/github/riVFerd/Artificial-Intelligence/blob/main/29_VirgyFerdian_InformedSearch.ipynb\" target=\"_parent\"><img src=\"https://colab.research.google.com/assets/colab-badge.svg\" alt=\"Open In Colab\"/></a>"
      ]
    },
    {
      "cell_type": "markdown",
      "source": [
        "NAMA\t  : Virgy Ferdian Surya F.  \n",
        "NIM \t\t: 2141720116  \n",
        "KELAS \t: 2B-D4TI / 29  \n",
        "MATERI \t: Informed Search  \n",
        "Link Github : https://github.com/riVFerd/Artificial-Intelligence.git"
      ],
      "metadata": {
        "id": "Mk6n5Q7vnRFJ"
      }
    },
    {
      "cell_type": "markdown",
      "source": [
        "## Praktikum Percobaan 1"
      ],
      "metadata": {
        "id": "V3BEg2uaQ2ym"
      }
    },
    {
      "cell_type": "code",
      "execution_count": null,
      "metadata": {
        "id": "jmhMhGZaArqt",
        "colab": {
          "base_uri": "https://localhost:8080/"
        },
        "outputId": "6f46cbdf-8610-4a31-ff36-723b2eb23066"
      },
      "outputs": [
        {
          "output_type": "stream",
          "name": "stdout",
          "text": [
            "Path found: ['A', 'B', 'D']\n"
          ]
        },
        {
          "output_type": "execute_result",
          "data": {
            "text/plain": [
              "['A', 'B', 'D']"
            ]
          },
          "metadata": {},
          "execution_count": 1
        }
      ],
      "source": [
        "class Graph:\n",
        "  def __init__(self, adjacency_list):\n",
        "    self.adjacency_list = adjacency_list\n",
        "\n",
        "  def get_neighbors(self, v):\n",
        "    return self.adjacency_list[v]\n",
        "\n",
        "  # jarak (secara garis lurus) dari node ke tujuan\n",
        "  def h(self, n):\n",
        "    H = {\n",
        "        'A': 1,\n",
        "        'B': 1,\n",
        "        'C': 1,\n",
        "        'D': 1\n",
        "    }\n",
        "    return H[n]\n",
        "\n",
        "  def a_star_algorithm(self, start_node, stop_node):\n",
        "    open_list = set([start_node]) # list node yang sedang di inspect\n",
        "    closed_list = set([]) # list yang semua tetangganya sudah di inspect\n",
        "\n",
        "    g = {} # jarak total dari awal sampai akhir path (dihitung dari weight simpulnya)\n",
        "    g[start_node] = 0\n",
        "\n",
        "    parents = {}\n",
        "    parents[start_node] = start_node\n",
        "\n",
        "    while len(open_list) > 0:\n",
        "        n = None # menyimpan node yang sementara dianggap memiliki jarak paling pendek ke tujuan\n",
        "\n",
        "        for v in open_list:\n",
        "            if n == None or g[v] + self.h(v) < g[n] + self.h(n):\n",
        "                n = v\n",
        "        \n",
        "        # Semisal\n",
        "        if n == None:\n",
        "            print('Path does not exist!')\n",
        "            return None\n",
        "        \n",
        "        if n == stop_node:\n",
        "            reconst_path = []\n",
        "\n",
        "            while parents[n] != n:\n",
        "                reconst_path.append(n)\n",
        "                n = parents[n]\n",
        "\n",
        "            reconst_path.append(start_node)\n",
        "\n",
        "            reconst_path.reverse()\n",
        "\n",
        "            print('Path found: {}'.format(reconst_path))\n",
        "            return reconst_path\n",
        "\n",
        "        # Cek setiap tetangga dari n\n",
        "        for (m, weight) in self.get_neighbors(n):\n",
        "            if m not in open_list and m not in closed_list:\n",
        "                open_list.add(m)\n",
        "                parents[m] = n\n",
        "                g[m] = g[n] + weight\n",
        "\n",
        "            else:\n",
        "                if g[m] > g[n] + weight:\n",
        "                    g[m] = g[n] + weight\n",
        "                    parents[m] = n\n",
        "\n",
        "                    if m in closed_list:\n",
        "                        closed_list.remove(m)\n",
        "                        open_list.add(m)\n",
        "        \n",
        "        open_list.remove(n)\n",
        "        closed_list.add(n)\n",
        "    \n",
        "    print('Path does not exist!')\n",
        "    return None\n",
        "\n",
        "\n",
        "adjacency_list = {\n",
        "    'A': [('B', 1), ('C', 3), ('D', 7)],\n",
        "    'B': [('D', 5)],\n",
        "    'C': [('D', 12)]\n",
        "}\n",
        "graph1 = Graph(adjacency_list)\n",
        "graph1.a_star_algorithm('A', 'D')"
      ]
    },
    {
      "cell_type": "markdown",
      "source": [
        "### Pertanyaan\n",
        "* a. Amati output pada percobaan 1, dan jelaskan bagaimana hasilnya?\n",
        "* b. Jelaskan tahapan-tahapan pada fungsi algoritma A*di percobaan 1 langkah ke-2 yang\n",
        "sudah dijelaskan di atas.\n",
        "* c. Apakah tujuan pembuatan fungsi heuristik?\n",
        "* d. Bagaimanakah kompleksitas waktu pada algoritma A*? Jelaskan dan beri contoh!\n",
        "* e. Jelaskan maksud dari code program di bawah ini:\n",
        "\n",
        "### Jawaban :\n",
        "* a. Hasil yang dikeluarkan adalah path dengan jalur terpendek ke D, yaitu path A, B, D.\n",
        "* b. Pertama pada class graph disediakan list nilai H yang memiliki nilai 1 untuk setiap node. Lalu saat fungsi a_star_algorithm dipanggil akan dilakukan pengecekan secara berulang dimulai dari root node. Lalu node yang sementara dianggap memiliki jarak terpendek ke tujuan akan disimpan ke 'n' yang pada akhirnya kumpulan 'n' tersebut akan dimasukan ke 'reconst_path' yang merupakan kumpulan node/ path menuju tujuan yang nantinya akan di return sebagai hasil dari fungsi a_star_algorithm.\n",
        "* c. Fungsi heuristik tersebut digunakan untuk mendapatkan jarak dari tiap tiap node (diukur secara garis lurus) ke node tujuan, yang mana hal tersebut dibutuhkan dalam rumus algoritma a star.\n",
        "* d. Kompleksitas dari algoritma A star adalah tergantung dari heuristiknya\n",
        "* e. Variable adjacency_list tersebut adalah sebuah list key value yang menyimpan dan merepresentasikan graph beserta node node yang terhubung."
      ],
      "metadata": {
        "id": "q3RhvnzP3MKf"
      }
    },
    {
      "cell_type": "markdown",
      "source": [
        "### Tugas\n",
        "* a. Ubahlah kode program pada percobaan 2 menggunakan metode pencarian jarak yang lain, selain Euclidean distance!\n",
        "* b. Jelaskan perbedaan hasilnya pada tugas No.1!\n",
        "* c. Dapatkah algoritma A* diterapkan untuk grpah yang tidak berbobot? Jika tidak, apakah alasanya?\n",
        "* d. Carilah kegunaan algoritma A* yang diimplementasikan pada game. Jelaskan tahapanya dan juga tampilkan game atau langkah-langkah pembuatanya!\n",
        "\n",
        "### Jawaban : \n",
        "*\n",
        "*\n",
        "* c. Tidak bisa karena dalam rumus algoritma A* diperlukan bobot jalur yang digunakna untuk menghitung jalur terdekat.\n",
        "* d. Algoritma A* dapat digunakan untuk NPC pada video game untuk mencarikan mereka jalur tercepat dan tedekat menuju tujuanya (bisa berupa NPC yang ingin mendatangi kita). Langkah-langkahnya pertama program akan melihat banyaknya jalur yang bisa dilalui NPC tersebut ke kita. Setelah itu program akan mengevaluasi mana-mana saja jalur terdekat dengan memperhatingan jarak serta obstacle/halangan yang akan memperlampat. Setelah ditemukan jalan yang paling ideal jalur tersebut dikirimkan kepada NPC agar bisa sampai menghampiri kita dengan cepat."
      ],
      "metadata": {
        "id": "M6v4wHny8J1E"
      }
    },
    {
      "cell_type": "markdown",
      "source": [
        "## Praktikum Percobaan 2"
      ],
      "metadata": {
        "id": "c5atKT7naJ-K"
      }
    },
    {
      "cell_type": "code",
      "source": [
        "DAG = {\n",
        "    'A': {'C': 4, 'G': 9},\n",
        "    'G': {'E', 6},\n",
        "    'C': {'D': 6, 'H': 12},\n",
        "    'D': {'E': 7},\n",
        "    'H': {'F': 15},\n",
        "    'E': {'F': 8},\n",
        "    'F': {'B': 5}\n",
        "}\n",
        "\n",
        "def shortest_path(graph, source, dest):\n",
        "    result = []\n",
        "    result.append(source)\n",
        "\n",
        "    while dest not in result:\n",
        "        current_node = result[-1]\n",
        "        local_max = min(graph[current_node].values())\n",
        "        for node, weight in graph[current_node].items():\n",
        "            if weight == local_max:\n",
        "                result.append(node)\n",
        "    return result\n",
        "\n",
        "print(\"Hasil algoritma greedy :\")\n",
        "print(shortest_path(DAG, 'A', 'F'))"
      ],
      "metadata": {
        "id": "smERX8Xsu1uc",
        "colab": {
          "base_uri": "https://localhost:8080/",
          "height": 0
        },
        "outputId": "500cdc04-c997-4956-814b-f2f4be3057ff"
      },
      "execution_count": 7,
      "outputs": [
        {
          "output_type": "stream",
          "name": "stdout",
          "text": [
            "Hasil algoritma greedy :\n",
            "['A', 'C', 'D', 'E', 'F']\n"
          ]
        }
      ]
    },
    {
      "cell_type": "markdown",
      "source": [
        "### Pertanyaan\n",
        "* a.Amati output pada percobaan 1, dan Jelaskan bagaimana hasilnya? Jangan lupa tambahkan line-code untuk menampilkan jalur pencarian dengan A sebagai titik awal dan F sebagai tujuan.\n",
        "* b.Jelaskan tahapan-tahapan pada fungsi algoritma Greedy di percobaan 1 langkah ke 2 yang sudah dijelaskan di atas.\n",
        "* c.Bagaimanakah kompleksitas waktu pada algoritma Greedy? Jelaskan dan beri contoh!\n",
        "* d.Tampilkan urutan simpul dari lintasan yang dipilih oleh algoritma greedy search dan hitung path cost-nya.\n",
        "\n",
        "### Jawaban :\n",
        "* a.Hasil yang dikeluarkan adalah path dari A ke F, yaitu(A,C,D,E,F)\n",
        "* b.Fungsi tersebut melakukan pencarian path terdekat yang dihitung berdasarkan node terdekat yang ada di sekitar node saat ini (bukan dihitung terpendek dari keseluruhan path)\n",
        "* c.Kompelksitas O(nx2^n), algoritma ini digunakan untuk melakukan pencarian yang tidak mengedepankan jalur yang paling cepat (kurang optimal), tetapi prosesnya cukup cepat\n",
        "* d.A+C+D+E+F = 4+6+7+8 = 25"
      ],
      "metadata": {
        "id": "Ug3AD8j4hfwE"
      }
    },
    {
      "cell_type": "markdown",
      "source": [
        "## Praktikum Percobaan 3"
      ],
      "metadata": {
        "id": "Jyu-cMidaLLV"
      }
    },
    {
      "cell_type": "code",
      "source": [
        "from operator import itemgetter, attrgetter\n",
        "\n",
        "w = [3,4,1,7,6,8,9]\n",
        "p = [4,5,2,5,5,8,11]\n",
        "item = [[3,4],[4,5],[1,2],[7,5],[6,5],[8,8],[9,11]]\n",
        "\n",
        "i = 0\n",
        "while i < len(item):\n",
        "    item[i].append(item[i][0]/item[i][1])\n",
        "    i += 1\n",
        "\n",
        "data = sorted(item, key=itemgetter(2), reverse=True)\n",
        "\n",
        "def knapsack(data, cap, flag):\n",
        "    total = 0\n",
        "    tres = \"\"\n",
        "    if flag == 0:\n",
        "        dataS = sorted(data, key=itemgetter(flag), reverse=True)\n",
        "        tres = \"bobot prioritas\"\n",
        "    elif flag == 1:\n",
        "        dataS = sorted(data, key=itemgetter(flag), reverse=True)\n",
        "        tres = \"keuntungan prioritas\"\n",
        "    elif flag == 2:\n",
        "        dataS = sorted(data, key=itemgetter(flag), reverse=True)\n",
        "        tres = \"p prioritas\"\n",
        "    else:\n",
        "        return \"Error\"\n",
        "    \n",
        "    j = 0\n",
        "    hasil = 0\n",
        "    cek = 0\n",
        "    weight = 0\n",
        "    while j < len(dataS):\n",
        "        if (cek + dataS[j][0] <= cap):\n",
        "            hasil = hasil + dataS[j][1]\n",
        "            weight = weight + dataS[j][0]\n",
        "            print(dataS[j][0])\n",
        "        cek = weight\n",
        "        j += 1\n",
        "    return(\"Optimal dalam \" + str(tres) + str(hasil))\n",
        "\n",
        "print(knapsack(data, 20, 0))\n",
        "print(knapsack(data, 20, 1))\n",
        "print(knapsack(data, 20, 2))"
      ],
      "metadata": {
        "id": "d7xRm1Sou91F",
        "colab": {
          "base_uri": "https://localhost:8080/",
          "height": 0
        },
        "outputId": "748108e7-d3e3-4271-ecda-9d037c8f39f0"
      },
      "execution_count": 8,
      "outputs": [
        {
          "output_type": "stream",
          "name": "stdout",
          "text": [
            "9\n",
            "8\n",
            "3\n",
            "Optimal dalam bobot prioritas23\n",
            "9\n",
            "8\n",
            "3\n",
            "Optimal dalam keuntungan prioritas23\n",
            "7\n",
            "6\n",
            "4\n",
            "3\n",
            "Optimal dalam p prioritas19\n"
          ]
        }
      ]
    },
    {
      "cell_type": "markdown",
      "source": [
        "### Pertanyaan\n",
        "* a.Amati output pada percobaan 2, dan Jelaskan bagaimana hasilnya?\n",
        "* b.Jelaskan tahapan-tahapan pada fungsi algoritma Greedy di percobaan 2 langkah ke 2 yang sudah dijelaskan di atas!\n",
        "\n",
        "### Jawaban :\n",
        "* a.Hasil outputnya adalah pengoptimalan dari knapsack dalam kondisi flag 0 sampai 2\n",
        "* b. Pertama melakukan perulangan untuk setiap data pada 'item', lalu dilakukan penyortiran berdasarkan nilai dari argument flag. Lalu dilakukan penghitungan hasil dan bobot yang kemudian nilai dari hasil akan di return"
      ],
      "metadata": {
        "id": "qeJkYL5NkGQm"
      }
    }
  ]
}